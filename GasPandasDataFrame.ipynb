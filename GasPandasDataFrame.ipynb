{
 "cells": [
  {
   "cell_type": "code",
   "execution_count": 1,
   "metadata": {},
   "outputs": [],
   "source": [
    "# Import the Pandas library\n",
    "import pandas as pd\n",
    "import numpy as np\n",
    "import matplotlib.pyplot as plt\n",
    "import numpy as np"
   ]
  },
  {
   "cell_type": "code",
   "execution_count": 2,
   "metadata": {},
   "outputs": [
    {
     "data": {
      "text/html": [
       "<div>\n",
       "<style scoped>\n",
       "    .dataframe tbody tr th:only-of-type {\n",
       "        vertical-align: middle;\n",
       "    }\n",
       "\n",
       "    .dataframe tbody tr th {\n",
       "        vertical-align: top;\n",
       "    }\n",
       "\n",
       "    .dataframe thead th {\n",
       "        text-align: right;\n",
       "    }\n",
       "</style>\n",
       "<table border=\"1\" class=\"dataframe\">\n",
       "  <thead>\n",
       "    <tr style=\"text-align: right;\">\n",
       "      <th></th>\n",
       "      <th>Date</th>\n",
       "      <th>Price/Gallon</th>\n",
       "      <th>Gallons</th>\n",
       "      <th>Total</th>\n",
       "      <th>Vendor</th>\n",
       "    </tr>\n",
       "  </thead>\n",
       "  <tbody>\n",
       "    <tr>\n",
       "      <th>0</th>\n",
       "      <td>3/12/2019</td>\n",
       "      <td>$3.88</td>\n",
       "      <td>17.378</td>\n",
       "      <td>$67.41</td>\n",
       "      <td>Costco</td>\n",
       "    </tr>\n",
       "    <tr>\n",
       "      <th>1</th>\n",
       "      <td>3/21/2019</td>\n",
       "      <td>$3.70</td>\n",
       "      <td>18.039</td>\n",
       "      <td>$66.73</td>\n",
       "      <td>Costco</td>\n",
       "    </tr>\n",
       "    <tr>\n",
       "      <th>2</th>\n",
       "      <td>3/30/2019</td>\n",
       "      <td>$4.40</td>\n",
       "      <td>4.563</td>\n",
       "      <td>$20.07</td>\n",
       "      <td>Shell</td>\n",
       "    </tr>\n",
       "    <tr>\n",
       "      <th>3</th>\n",
       "      <td>4/17/2019</td>\n",
       "      <td>$3.68</td>\n",
       "      <td>14.833</td>\n",
       "      <td>$54.57</td>\n",
       "      <td>Costco</td>\n",
       "    </tr>\n",
       "    <tr>\n",
       "      <th>4</th>\n",
       "      <td>4/20/2019</td>\n",
       "      <td>$4.00</td>\n",
       "      <td>3.751</td>\n",
       "      <td>$15.00</td>\n",
       "      <td>Circle K</td>\n",
       "    </tr>\n",
       "  </tbody>\n",
       "</table>\n",
       "</div>"
      ],
      "text/plain": [
       "        Date Price/Gallon Gallons    Total    Vendor\n",
       "0  3/12/2019       $3.88   17.378  $67.41     Costco\n",
       "1  3/21/2019       $3.70   18.039  $66.73     Costco\n",
       "2  3/30/2019       $4.40    4.563  $20.07      Shell\n",
       "3  4/17/2019       $3.68   14.833  $54.57     Costco\n",
       "4  4/20/2019       $4.00    3.751  $15.00   Circle K"
      ]
     },
     "execution_count": 2,
     "metadata": {},
     "output_type": "execute_result"
    }
   ],
   "source": [
    "# Create a reference the CSV file desired\n",
    "csv_path = \"Resources/GasData.csv\"\n",
    "\n",
    "# Read the CSV into a Pandas DataFrame\n",
    "gas_df = pd.read_csv(csv_path)\n",
    "\n",
    "# Print the first five rows of data to the screen\n",
    "gas_df.head()"
   ]
  },
  {
   "cell_type": "code",
   "execution_count": 3,
   "metadata": {},
   "outputs": [
    {
     "data": {
      "text/plain": [
       "Date            66\n",
       "Price/Gallon    66\n",
       "Gallons         66\n",
       "Total           66\n",
       "Vendor          66\n",
       "dtype: int64"
      ]
     },
     "execution_count": 3,
     "metadata": {},
     "output_type": "execute_result"
    }
   ],
   "source": [
    "# Check to see if there are any rows with missing data\n",
    "gas_df.count()"
   ]
  },
  {
   "cell_type": "code",
   "execution_count": 4,
   "metadata": {},
   "outputs": [
    {
     "data": {
      "text/plain": [
       "Date            66\n",
       "Price/Gallon    66\n",
       "Gallons         66\n",
       "Total           66\n",
       "Vendor          66\n",
       "dtype: int64"
      ]
     },
     "execution_count": 4,
     "metadata": {},
     "output_type": "execute_result"
    }
   ],
   "source": [
    "# Remove the rows with missing data\n",
    "clean_gas_df = gas_df.dropna(how=\"any\")\n",
    "clean_gas_df.count()"
   ]
  },
  {
   "cell_type": "code",
   "execution_count": 5,
   "metadata": {},
   "outputs": [
    {
     "data": {
      "text/html": [
       "<div>\n",
       "<style scoped>\n",
       "    .dataframe tbody tr th:only-of-type {\n",
       "        vertical-align: middle;\n",
       "    }\n",
       "\n",
       "    .dataframe tbody tr th {\n",
       "        vertical-align: top;\n",
       "    }\n",
       "\n",
       "    .dataframe thead th {\n",
       "        text-align: right;\n",
       "    }\n",
       "</style>\n",
       "<table border=\"1\" class=\"dataframe\">\n",
       "  <thead>\n",
       "    <tr style=\"text-align: right;\">\n",
       "      <th></th>\n",
       "      <th>Date</th>\n",
       "      <th>Price/Gallon</th>\n",
       "      <th>Gallons</th>\n",
       "      <th>Total</th>\n",
       "      <th>Vendor</th>\n",
       "    </tr>\n",
       "  </thead>\n",
       "  <tbody>\n",
       "    <tr>\n",
       "      <th>0</th>\n",
       "      <td>3/12/2019</td>\n",
       "      <td>$3.88</td>\n",
       "      <td>17.378</td>\n",
       "      <td>$67.41</td>\n",
       "      <td>Costco</td>\n",
       "    </tr>\n",
       "    <tr>\n",
       "      <th>1</th>\n",
       "      <td>3/21/2019</td>\n",
       "      <td>$3.70</td>\n",
       "      <td>18.039</td>\n",
       "      <td>$66.73</td>\n",
       "      <td>Costco</td>\n",
       "    </tr>\n",
       "    <tr>\n",
       "      <th>3</th>\n",
       "      <td>4/17/2019</td>\n",
       "      <td>$3.68</td>\n",
       "      <td>14.833</td>\n",
       "      <td>$54.57</td>\n",
       "      <td>Costco</td>\n",
       "    </tr>\n",
       "    <tr>\n",
       "      <th>9</th>\n",
       "      <td>5/30/2019</td>\n",
       "      <td>$3.40</td>\n",
       "      <td>16.019</td>\n",
       "      <td>$54.45</td>\n",
       "      <td>Costco</td>\n",
       "    </tr>\n",
       "    <tr>\n",
       "      <th>10</th>\n",
       "      <td>6/8/2019</td>\n",
       "      <td>$3.74</td>\n",
       "      <td>17.353</td>\n",
       "      <td>$64.88</td>\n",
       "      <td>Costco</td>\n",
       "    </tr>\n",
       "  </tbody>\n",
       "</table>\n",
       "</div>"
      ],
      "text/plain": [
       "         Date Price/Gallon Gallons    Total  Vendor\n",
       "0   3/12/2019       $3.88   17.378  $67.41   Costco\n",
       "1   3/21/2019       $3.70   18.039  $66.73   Costco\n",
       "3   4/17/2019       $3.68   14.833  $54.57   Costco\n",
       "9   5/30/2019       $3.40   16.019  $54.45   Costco\n",
       "10   6/8/2019       $3.74   17.353  $64.88   Costco"
      ]
     },
     "execution_count": 5,
     "metadata": {},
     "output_type": "execute_result"
    }
   ],
   "source": [
    "# Filter the data so that only the trips to Costco are in a DataFrame\n",
    "costco_gas_df = clean_gas_df.loc[clean_gas_df[\"Vendor\"] == \"Costco\", :]\n",
    "costco_gas_df.head()"
   ]
  },
  {
   "cell_type": "code",
   "execution_count": 6,
   "metadata": {},
   "outputs": [
    {
     "data": {
      "text/plain": [
       "Costco        40\n",
       "Vons           8\n",
       "Shell          5\n",
       "Circle K       3\n",
       "ARCO           2\n",
       "VP Fuels       2\n",
       "ExxonMobil     2\n",
       " Costco        1\n",
       "Valero         1\n",
       "Super Gas      1\n",
       "USA Gas        1\n",
       "Name: Vendor, dtype: int64"
      ]
     },
     "execution_count": 6,
     "metadata": {},
     "output_type": "execute_result"
    }
   ],
   "source": [
    "# Display an overview of the various gas stations visited\n",
    "gas_df['Vendor'].value_counts()"
   ]
  },
  {
   "cell_type": "code",
   "execution_count": 7,
   "metadata": {},
   "outputs": [
    {
     "data": {
      "text/html": [
       "<div>\n",
       "<style scoped>\n",
       "    .dataframe tbody tr th:only-of-type {\n",
       "        vertical-align: middle;\n",
       "    }\n",
       "\n",
       "    .dataframe tbody tr th {\n",
       "        vertical-align: top;\n",
       "    }\n",
       "\n",
       "    .dataframe thead th {\n",
       "        text-align: right;\n",
       "    }\n",
       "</style>\n",
       "<table border=\"1\" class=\"dataframe\">\n",
       "  <thead>\n",
       "    <tr style=\"text-align: right;\">\n",
       "      <th></th>\n",
       "      <th>Date</th>\n",
       "      <th>Price/Gallon</th>\n",
       "      <th>Gallons</th>\n",
       "      <th>Total</th>\n",
       "      <th>Vendor</th>\n",
       "    </tr>\n",
       "  </thead>\n",
       "  <tbody>\n",
       "    <tr>\n",
       "      <th>count</th>\n",
       "      <td>66</td>\n",
       "      <td>66</td>\n",
       "      <td>66</td>\n",
       "      <td>66</td>\n",
       "      <td>66</td>\n",
       "    </tr>\n",
       "    <tr>\n",
       "      <th>unique</th>\n",
       "      <td>63</td>\n",
       "      <td>45</td>\n",
       "      <td>66</td>\n",
       "      <td>63</td>\n",
       "      <td>11</td>\n",
       "    </tr>\n",
       "    <tr>\n",
       "      <th>top</th>\n",
       "      <td>6/10/2020</td>\n",
       "      <td>$3.40</td>\n",
       "      <td>15.534</td>\n",
       "      <td>$20.00</td>\n",
       "      <td>Costco</td>\n",
       "    </tr>\n",
       "    <tr>\n",
       "      <th>freq</th>\n",
       "      <td>2</td>\n",
       "      <td>4</td>\n",
       "      <td>1</td>\n",
       "      <td>3</td>\n",
       "      <td>40</td>\n",
       "    </tr>\n",
       "  </tbody>\n",
       "</table>\n",
       "</div>"
      ],
      "text/plain": [
       "             Date Price/Gallon Gallons    Total  Vendor\n",
       "count          66           66      66       66      66\n",
       "unique         63           45      66       63      11\n",
       "top     6/10/2020       $3.40   15.534  $20.00   Costco\n",
       "freq            2            4       1        3      40"
      ]
     },
     "execution_count": 7,
     "metadata": {},
     "output_type": "execute_result"
    }
   ],
   "source": [
    "# Display a statistical overview of the gas data over the year in gallons\n",
    "gas_df.describe()"
   ]
  },
  {
   "cell_type": "code",
   "execution_count": 8,
   "metadata": {},
   "outputs": [
    {
     "data": {
      "text/plain": [
       "$3.40     4\n",
       "$4.00     3\n",
       "$2.90     3\n",
       "$3.30     3\n",
       "$3.56     3\n",
       "$3.20     3\n",
       "$3.70     2\n",
       "$4.40     2\n",
       "$3.24     2\n",
       "$2.46     2\n",
       "$3.86     2\n",
       "$3.44     2\n",
       "$3.74     2\n",
       "2.879     2\n",
       "$4.50     1\n",
       "$3.50     1\n",
       "$3.62     1\n",
       "$2.36     1\n",
       "$3.26     1\n",
       "$3.46     1\n",
       "$2.74     1\n",
       "$3.90     1\n",
       "$3.10     1\n",
       "$2.47     1\n",
       "$3.23     1\n",
       "$3.16     1\n",
       "2.799     1\n",
       "$3.60     1\n",
       "$3.36     1\n",
       "$3.64     1\n",
       "$3.84     1\n",
       "$3.22     1\n",
       "$3.43     1\n",
       "$3.78     1\n",
       "2.769     1\n",
       "$2.80     1\n",
       "$4.30     1\n",
       "$2.40     1\n",
       "$3.88     1\n",
       "$3.80     1\n",
       "$3.68     1\n",
       "$4.16     1\n",
       "$3.32     1\n",
       "$3.49     1\n",
       "$3.00     1\n",
       "Name: Price/Gallon, dtype: int64"
      ]
     },
     "execution_count": 8,
     "metadata": {},
     "output_type": "execute_result"
    }
   ],
   "source": [
    "# Display an overview of the Price/Gallon data, showing which price is the mode\n",
    "gas_df['Price/Gallon'].value_counts()"
   ]
  },
  {
   "cell_type": "code",
   "execution_count": 9,
   "metadata": {},
   "outputs": [
    {
     "data": {
      "text/html": [
       "<div>\n",
       "<style scoped>\n",
       "    .dataframe tbody tr th:only-of-type {\n",
       "        vertical-align: middle;\n",
       "    }\n",
       "\n",
       "    .dataframe tbody tr th {\n",
       "        vertical-align: top;\n",
       "    }\n",
       "\n",
       "    .dataframe thead th {\n",
       "        text-align: right;\n",
       "    }\n",
       "</style>\n",
       "<table border=\"1\" class=\"dataframe\">\n",
       "  <thead>\n",
       "    <tr style=\"text-align: right;\">\n",
       "      <th></th>\n",
       "      <th>Amount of Item Names</th>\n",
       "      <th>\\n Average Price</th>\n",
       "      <th>\\n Total Purchases</th>\n",
       "      <th>Total Revenue</th>\n",
       "    </tr>\n",
       "  </thead>\n",
       "  <tbody>\n",
       "    <tr>\n",
       "      <th>0</th>\n",
       "      <td>11</td>\n",
       "      <td>45</td>\n",
       "      <td>$67.41 $66.73 $20.07 $54.57 $15.00 $35.00 $19....</td>\n",
       "      <td>66</td>\n",
       "    </tr>\n",
       "  </tbody>\n",
       "</table>\n",
       "</div>"
      ],
      "text/plain": [
       "   Amount of Item Names  \\n Average Price  \\\n",
       "0                    11                45   \n",
       "\n",
       "                                  \\n Total Purchases  Total Revenue  \n",
       "0  $67.41 $66.73 $20.07 $54.57 $15.00 $35.00 $19....             66  "
      ]
     },
     "execution_count": 9,
     "metadata": {},
     "output_type": "execute_result"
    }
   ],
   "source": [
    "# Obtain number of unique items, average price\n",
    "unique_items = len(gas_df[\"Vendor\"].unique())\n",
    "\n",
    "average_price = len(gas_df[\"Price/Gallon\"].unique())\n",
    "\n",
    "total_df = len(gas_df)\n",
    "\n",
    "total_gas_price_df = gas_df[\"Total\"].sum()\n",
    "    \n",
    "# Create a summary data frame to hold the results and display it\n",
    "summary_table = pd.DataFrame({'Amount of Item Names': [unique_items], '\\n Average Price': [average_price], '\\n Total Purchases': [total_gas_price_df], 'Total Revenue': [total_df]})\n",
    "summary_table"
   ]
  },
  {
   "cell_type": "code",
   "execution_count": null,
   "metadata": {},
   "outputs": [],
   "source": []
  },
  {
   "cell_type": "code",
   "execution_count": null,
   "metadata": {},
   "outputs": [],
   "source": []
  }
 ],
 "metadata": {
  "kernelspec": {
   "display_name": "Python 3",
   "language": "python",
   "name": "python3"
  },
  "language_info": {
   "codemirror_mode": {
    "name": "ipython",
    "version": 3
   },
   "file_extension": ".py",
   "mimetype": "text/x-python",
   "name": "python",
   "nbconvert_exporter": "python",
   "pygments_lexer": "ipython3",
   "version": "3.7.1"
  }
 },
 "nbformat": 4,
 "nbformat_minor": 4
}
